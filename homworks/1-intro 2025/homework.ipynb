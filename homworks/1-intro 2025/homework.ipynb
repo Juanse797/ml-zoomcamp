{
 "cells": [
  {
   "cell_type": "code",
   "execution_count": 1,
   "id": "85562fe4",
   "metadata": {},
   "outputs": [],
   "source": [
    "import pandas as pd \n",
    "import numpy as np \n"
   ]
  },
  {
   "cell_type": "markdown",
   "id": "15191810",
   "metadata": {},
   "source": [
    "<hr style=\"border-top: 2px solid black;\">"
   ]
  },
  {
   "cell_type": "markdown",
   "id": "38a493e1",
   "metadata": {},
   "source": [
    "### Q1. Versión de Pandas"
   ]
  },
  {
   "cell_type": "code",
   "execution_count": 3,
   "id": "6a007eb6",
   "metadata": {},
   "outputs": [
    {
     "data": {
      "text/plain": [
       "'2.3.2'"
      ]
     },
     "execution_count": 3,
     "metadata": {},
     "output_type": "execute_result"
    }
   ],
   "source": [
    "pd.__version__"
   ]
  },
  {
   "cell_type": "code",
   "execution_count": 2,
   "id": "ee8fc837",
   "metadata": {},
   "outputs": [
    {
     "name": "stdout",
     "output_type": "stream",
     "text": [
      "--2025-09-27 15:22:38--  https://raw.githubusercontent.com/alexeygrigorev/datasets/master/car_fuel_efficiency.csv\n",
      "Resolving raw.githubusercontent.com (raw.githubusercontent.com)... 185.199.109.133, 185.199.110.133, 185.199.111.133, ...\n",
      "Connecting to raw.githubusercontent.com (raw.githubusercontent.com)|185.199.109.133|:443... connected.\n",
      "HTTP request sent, awaiting response... 200 OK\n",
      "Length: 874188 (854K) [text/plain]\n",
      "Saving to: ‘car_fuel_efficiency.csv’\n",
      "\n",
      "car_fuel_efficiency 100%[===================>] 853.70K  --.-KB/s    in 0.08s   \n",
      "\n",
      "2025-09-27 15:22:39 (10.5 MB/s) - ‘car_fuel_efficiency.csv’ saved [874188/874188]\n",
      "\n"
     ]
    }
   ],
   "source": [
    "#obtner datos \n",
    "!wget https://raw.githubusercontent.com/alexeygrigorev/datasets/master/car_fuel_efficiency.csv"
   ]
  },
  {
   "cell_type": "code",
   "execution_count": 4,
   "id": "cc3b5f47",
   "metadata": {},
   "outputs": [],
   "source": [
    "df = pd.read_csv('car_fuel_efficiency.csv')"
   ]
  },
  {
   "cell_type": "code",
   "execution_count": 5,
   "id": "6a985307",
   "metadata": {},
   "outputs": [
    {
     "data": {
      "text/plain": [
       "Index(['engine_displacement', 'num_cylinders', 'horsepower', 'vehicle_weight',\n",
       "       'acceleration', 'model_year', 'origin', 'fuel_type', 'drivetrain',\n",
       "       'num_doors', 'fuel_efficiency_mpg'],\n",
       "      dtype='object')"
      ]
     },
     "execution_count": 5,
     "metadata": {},
     "output_type": "execute_result"
    }
   ],
   "source": [
    "df.columns"
   ]
  },
  {
   "cell_type": "code",
   "execution_count": 6,
   "id": "178f0075",
   "metadata": {},
   "outputs": [],
   "source": [
    "df.columns = df.columns.str.lower().str.replace(' ', '_')"
   ]
  },
  {
   "cell_type": "code",
   "execution_count": 7,
   "id": "8c6bb924",
   "metadata": {},
   "outputs": [
    {
     "data": {
      "text/plain": [
       "['origin', 'fuel_type', 'drivetrain']"
      ]
     },
     "execution_count": 7,
     "metadata": {},
     "output_type": "execute_result"
    }
   ],
   "source": [
    "string =  list(df.dtypes[df.dtypes == \"object\"].index)\n",
    "string"
   ]
  },
  {
   "cell_type": "code",
   "execution_count": 8,
   "id": "83de57ce",
   "metadata": {},
   "outputs": [],
   "source": [
    "for col in string:\n",
    "    df[col] = df[col].str.lower().str.replace(' ', '_')"
   ]
  },
  {
   "cell_type": "code",
   "execution_count": 11,
   "id": "0675cb03",
   "metadata": {},
   "outputs": [
    {
     "data": {
      "text/html": [
       "<div>\n",
       "<style scoped>\n",
       "    .dataframe tbody tr th:only-of-type {\n",
       "        vertical-align: middle;\n",
       "    }\n",
       "\n",
       "    .dataframe tbody tr th {\n",
       "        vertical-align: top;\n",
       "    }\n",
       "\n",
       "    .dataframe thead th {\n",
       "        text-align: right;\n",
       "    }\n",
       "</style>\n",
       "<table border=\"1\" class=\"dataframe\">\n",
       "  <thead>\n",
       "    <tr style=\"text-align: right;\">\n",
       "      <th></th>\n",
       "      <th>engine_displacement</th>\n",
       "      <th>num_cylinders</th>\n",
       "      <th>horsepower</th>\n",
       "      <th>vehicle_weight</th>\n",
       "      <th>acceleration</th>\n",
       "      <th>model_year</th>\n",
       "      <th>origin</th>\n",
       "      <th>fuel_type</th>\n",
       "      <th>drivetrain</th>\n",
       "      <th>num_doors</th>\n",
       "      <th>fuel_efficiency_mpg</th>\n",
       "    </tr>\n",
       "  </thead>\n",
       "  <tbody>\n",
       "    <tr>\n",
       "      <th>431</th>\n",
       "      <td>210</td>\n",
       "      <td>1.0</td>\n",
       "      <td>125.0</td>\n",
       "      <td>3907.386934</td>\n",
       "      <td>NaN</td>\n",
       "      <td>2016</td>\n",
       "      <td>europe</td>\n",
       "      <td>diesel</td>\n",
       "      <td>front-wheel_drive</td>\n",
       "      <td>-2.0</td>\n",
       "      <td>11.352624</td>\n",
       "    </tr>\n",
       "    <tr>\n",
       "      <th>8157</th>\n",
       "      <td>200</td>\n",
       "      <td>2.0</td>\n",
       "      <td>204.0</td>\n",
       "      <td>3552.996930</td>\n",
       "      <td>12.4</td>\n",
       "      <td>2021</td>\n",
       "      <td>asia</td>\n",
       "      <td>gasoline</td>\n",
       "      <td>all-wheel_drive</td>\n",
       "      <td>0.0</td>\n",
       "      <td>12.371410</td>\n",
       "    </tr>\n",
       "    <tr>\n",
       "      <th>2273</th>\n",
       "      <td>190</td>\n",
       "      <td>2.0</td>\n",
       "      <td>146.0</td>\n",
       "      <td>3250.220554</td>\n",
       "      <td>15.4</td>\n",
       "      <td>2005</td>\n",
       "      <td>usa</td>\n",
       "      <td>gasoline</td>\n",
       "      <td>all-wheel_drive</td>\n",
       "      <td>-1.0</td>\n",
       "      <td>13.381783</td>\n",
       "    </tr>\n",
       "    <tr>\n",
       "      <th>3630</th>\n",
       "      <td>170</td>\n",
       "      <td>3.0</td>\n",
       "      <td>115.0</td>\n",
       "      <td>3379.976612</td>\n",
       "      <td>13.9</td>\n",
       "      <td>2001</td>\n",
       "      <td>asia</td>\n",
       "      <td>gasoline</td>\n",
       "      <td>all-wheel_drive</td>\n",
       "      <td>0.0</td>\n",
       "      <td>12.962025</td>\n",
       "    </tr>\n",
       "    <tr>\n",
       "      <th>4493</th>\n",
       "      <td>70</td>\n",
       "      <td>3.0</td>\n",
       "      <td>158.0</td>\n",
       "      <td>3752.099308</td>\n",
       "      <td>11.7</td>\n",
       "      <td>2012</td>\n",
       "      <td>usa</td>\n",
       "      <td>diesel</td>\n",
       "      <td>front-wheel_drive</td>\n",
       "      <td>0.0</td>\n",
       "      <td>11.968380</td>\n",
       "    </tr>\n",
       "  </tbody>\n",
       "</table>\n",
       "</div>"
      ],
      "text/plain": [
       "      engine_displacement  num_cylinders  horsepower  vehicle_weight  \\\n",
       "431                   210            1.0       125.0     3907.386934   \n",
       "8157                  200            2.0       204.0     3552.996930   \n",
       "2273                  190            2.0       146.0     3250.220554   \n",
       "3630                  170            3.0       115.0     3379.976612   \n",
       "4493                   70            3.0       158.0     3752.099308   \n",
       "\n",
       "      acceleration  model_year  origin fuel_type         drivetrain  \\\n",
       "431            NaN        2016  europe    diesel  front-wheel_drive   \n",
       "8157          12.4        2021    asia  gasoline    all-wheel_drive   \n",
       "2273          15.4        2005     usa  gasoline    all-wheel_drive   \n",
       "3630          13.9        2001    asia  gasoline    all-wheel_drive   \n",
       "4493          11.7        2012     usa    diesel  front-wheel_drive   \n",
       "\n",
       "      num_doors  fuel_efficiency_mpg  \n",
       "431        -2.0            11.352624  \n",
       "8157        0.0            12.371410  \n",
       "2273       -1.0            13.381783  \n",
       "3630        0.0            12.962025  \n",
       "4493        0.0            11.968380  "
      ]
     },
     "execution_count": 11,
     "metadata": {},
     "output_type": "execute_result"
    }
   ],
   "source": [
    "df.sample(5)"
   ]
  },
  {
   "cell_type": "markdown",
   "id": "ea710b57",
   "metadata": {},
   "source": [
    "<hr style=\"border-top: 2px solid black;\">"
   ]
  },
  {
   "cell_type": "markdown",
   "id": "8ebdca7b",
   "metadata": {},
   "source": [
    "### Q2. Recuento de registros\n",
    "\n",
    "¿Cuántos registros hay en el conjunto de datos?\n",
    "\n",
    "- 4704\n",
    "- 8704\n",
    "- 9704 ✅\n",
    "- 17704\n"
   ]
  },
  {
   "cell_type": "code",
   "execution_count": 10,
   "id": "a6d63e0a",
   "metadata": {},
   "outputs": [
    {
     "data": {
      "text/plain": [
       "9704"
      ]
     },
     "execution_count": 10,
     "metadata": {},
     "output_type": "execute_result"
    }
   ],
   "source": [
    "registros = df.shape[0]\n",
    "registros"
   ]
  },
  {
   "cell_type": "markdown",
   "id": "d331ab17",
   "metadata": {},
   "source": [
    "<hr style=\"border-top: 2px solid black;\">"
   ]
  },
  {
   "cell_type": "markdown",
   "id": "28d4be13",
   "metadata": {},
   "source": [
    "### Q3. Tipos de combustible\n",
    "\n",
    "¿Cuántos tipos de combustible se presentan en el conjunto de datos?\n",
    "\n",
    "- 1\n",
    "- 2 ✅\n",
    "- 3\n",
    "- 4"
   ]
  },
  {
   "cell_type": "code",
   "execution_count": 12,
   "id": "2ef9339b",
   "metadata": {},
   "outputs": [
    {
     "data": {
      "text/plain": [
       "2"
      ]
     },
     "execution_count": 12,
     "metadata": {},
     "output_type": "execute_result"
    }
   ],
   "source": [
    "marcas = df['fuel_type'].nunique()\n",
    "marcas"
   ]
  },
  {
   "cell_type": "markdown",
   "id": "7466ef79",
   "metadata": {},
   "source": [
    "<hr style=\"border-top: 2px solid black;\">"
   ]
  },
  {
   "cell_type": "markdown",
   "id": "3d888253",
   "metadata": {},
   "source": [
    "### Q4. Valores faltantes\n",
    "¿Cuántas columnas del conjunto de datos tienen valores faltantes?\n",
    "\n",
    "- 0\n",
    "- 1\n",
    "- 2\n",
    "- 3\n",
    "- 4 ✅"
   ]
  },
  {
   "cell_type": "code",
   "execution_count": 13,
   "id": "ae432768",
   "metadata": {},
   "outputs": [
    {
     "name": "stdout",
     "output_type": "stream",
     "text": [
      "4\n"
     ]
    }
   ],
   "source": [
    "valoresNulos = df.isnull().any().sum()\n",
    "print(valoresNulos)"
   ]
  },
  {
   "cell_type": "markdown",
   "id": "6382f230",
   "metadata": {},
   "source": [
    "<hr style=\"border-top: 2px solid black;\">"
   ]
  },
  {
   "cell_type": "markdown",
   "id": "892eb5a6",
   "metadata": {},
   "source": [
    "### Q5. Máxima eficiencia de combustible\n",
    "¿Cuál es la máxima eficiencia de combustible de los coches de Asia?\n",
    "\n",
    "- 13,75\n",
    "- 23,75 ✅\n",
    "- 33,75\n",
    "- 43,75"
   ]
  },
  {
   "cell_type": "code",
   "execution_count": 35,
   "id": "1ad97946",
   "metadata": {},
   "outputs": [
    {
     "data": {
      "text/plain": [
       "23.759"
      ]
     },
     "execution_count": 35,
     "metadata": {},
     "output_type": "execute_result"
    }
   ],
   "source": [
    "precio_maxixo_origin = df[df[\"origin\"] == \"asia\"][\"fuel_efficiency_mpg\"].max()\n",
    "round(precio_maxixo_origin,3)"
   ]
  },
  {
   "cell_type": "markdown",
   "id": "a0eea6b5",
   "metadata": {},
   "source": [
    "<hr style=\"border-top: 2px solid black;\">"
   ]
  },
  {
   "cell_type": "markdown",
   "id": "5c8e071b",
   "metadata": {},
   "source": [
    "### Q6. Valor medio de los caballos de fuerza\n",
    "Encuentra el valor mediano de horsepower columna en el conjunto de datos.\n",
    "A continuación, calcule el valor más frecuente del mismo horsepower columna.\n",
    "Uso fillna método para completar los valores faltantes en horsepower columna con el valor más frecuente del paso anterior.\n",
    "Ahora, calcule el valor mediano de horsepower una vez más.\n",
    "¿Ha cambiado?\n",
    "\n",
    "Sí, aumentó ✅ <br>\n",
    "Sí, disminuyó <br>\n",
    "No"
   ]
  },
  {
   "cell_type": "code",
   "execution_count": 53,
   "id": "b864300c",
   "metadata": {},
   "outputs": [
    {
     "name": "stdout",
     "output_type": "stream",
     "text": [
      "Este es el valor mediano 149.0\n",
      "Este es el valor mas frecuente 152.0\n",
      "Este es valor frecuente sin datos faltantes 152.0\n",
      "-------------------\n",
      "valor mediano con datos faltantes 149.0 \n",
      "valor mediano sin datos faltantes 152.0\n"
     ]
    }
   ],
   "source": [
    "valorMediano = df[\"horsepower\"].median()\n",
    "print(f'Este es el valor mediano {valorMediano}')\n",
    "valorFrecuente = df[\"horsepower\"].mode()[0]\n",
    "print(f'Este es el valor mas frecuente {valorFrecuente}')\n",
    "valoresFaltantes = df['horsepower'].fillna(valorFrecuente)\n",
    "valorMedianoLimpio = valoresFaltantes.median()\n",
    "print(f'Este es valor frecuente sin datos faltantes {valorMedianoLimpio}')\n",
    "print('-------------------')\n",
    "print(f\"valor mediano con datos faltantes {valorMediano} \\nvalor mediano sin datos faltantes {valorMedianoLimpio}\")\n",
    "\n"
   ]
  },
  {
   "cell_type": "markdown",
   "id": "e7372459",
   "metadata": {},
   "source": [
    "<hr style=\"border-top: 2px solid black;\">"
   ]
  },
  {
   "cell_type": "markdown",
   "id": "4be580c6",
   "metadata": {},
   "source": [
    "### Q7. Suma de pesos\n",
    "Selecciona todos los coches de Asia <br>\n",
    "Seleccione solo columnas vehicle_weight y model_year <br>\n",
    "Seleccione los primeros 7 valores <br>\n",
    "Obtenga la matriz NumPy subyacente. Vamos a llamarlo X. <br>\n",
    "Calcular la multiplicación matriz-matriz entre la transposición de X y X. Para obtener la transposición, utilice X.T. Llamemos al resultado XTX. <br>\n",
    "Invertir XTX. <br>\n",
    "Crea una matriz \"y\" con valores [1100, 1300, 800, 900, 1000, 1100, 1200]. <br>\n",
    "Multiplica la inversa de XTX con la transposición de X, y luego multiplica el resultado por y. Llame al resultado w. <br>\n",
    "¿Cuál es la suma de todos los elementos del resultado?<br>\n",
    "Nota: Acabas de implementar la regresión lineal. Hablaremos de ello en la próxima lección.\n",
    "\n",
    "- 0,051\n",
    "- 0,51 ✅\n",
    "- 5.1\n",
    "- 51"
   ]
  },
  {
   "cell_type": "code",
   "execution_count": null,
   "id": "101f6ec8",
   "metadata": {},
   "outputs": [
    {
     "name": "stdout",
     "output_type": "stream",
     "text": [
      "0.519\n"
     ]
    }
   ],
   "source": [
    "CocheAsia = df[df['origin'] == 'asia'][['vehicle_weight', 'model_year']]\n",
    "X = CocheAsia.head(7)\n",
    "XTX = X.T.dot(X)\n",
    "XTX\n",
    "XTX_inv = np.linalg.inv(XTX)\n",
    "y = np.array([1100, 1300, 800, 900, 1000, 1100, 1200])\n",
    "w = XTX_inv.dot(X.T).dot(y)\n",
    "print(w.sum().round(3))"
   ]
  }
 ],
 "metadata": {
  "kernelspec": {
   "display_name": "mi_nuevo_env (WSL)",
   "language": "python",
   "name": "mi_nuevo_env"
  },
  "language_info": {
   "codemirror_mode": {
    "name": "ipython",
    "version": 3
   },
   "file_extension": ".py",
   "mimetype": "text/x-python",
   "name": "python",
   "nbconvert_exporter": "python",
   "pygments_lexer": "ipython3",
   "version": "3.11.13"
  }
 },
 "nbformat": 4,
 "nbformat_minor": 5
}
