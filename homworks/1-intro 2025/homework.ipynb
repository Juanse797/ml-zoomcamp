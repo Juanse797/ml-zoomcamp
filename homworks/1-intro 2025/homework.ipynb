{
 "cells": [
  {
   "cell_type": "code",
   "execution_count": 3,
   "id": "85562fe4",
   "metadata": {},
   "outputs": [],
   "source": [
    "import pandas as pd \n",
    "import numpy as np \n"
   ]
  },
  {
   "cell_type": "markdown",
   "id": "15191810",
   "metadata": {},
   "source": [
    "<hr style=\"border-top: 2px solid black;\">"
   ]
  },
  {
   "cell_type": "markdown",
   "id": "38a493e1",
   "metadata": {},
   "source": [
    "### Q1. Versión de Pandas"
   ]
  },
  {
   "cell_type": "code",
   "execution_count": 3,
   "id": "6a007eb6",
   "metadata": {},
   "outputs": [
    {
     "data": {
      "text/plain": [
       "'2.3.2'"
      ]
     },
     "execution_count": 3,
     "metadata": {},
     "output_type": "execute_result"
    }
   ],
   "source": [
    "pd.__version__"
   ]
  },
  {
   "cell_type": "code",
   "execution_count": 5,
   "id": "ee8fc837",
   "metadata": {},
   "outputs": [
    {
     "name": "stdout",
     "output_type": "stream",
     "text": [
      "--2025-09-15 14:42:53--  https://raw.githubusercontent.com/alexeygrigorev/datasets/master/laptops.csv\n",
      "Resolving raw.githubusercontent.com (raw.githubusercontent.com)... 185.199.111.133, 185.199.108.133, 185.199.109.133, ...\n",
      "Connecting to raw.githubusercontent.com (raw.githubusercontent.com)|185.199.111.133|:443... connected.\n",
      "HTTP request sent, awaiting response... 200 OK\n",
      "Length: 298573 (292K) [text/plain]\n",
      "Saving to: ‘laptops.csv’\n",
      "\n",
      "laptops.csv         100%[===================>] 291.58K  --.-KB/s    in 0.1s    \n",
      "\n",
      "2025-09-15 14:42:54 (2.55 MB/s) - ‘laptops.csv’ saved [298573/298573]\n",
      "\n"
     ]
    }
   ],
   "source": [
    "#obtner datos \n",
    "!wget https://raw.githubusercontent.com/alexeygrigorev/datasets/master/laptops.csv"
   ]
  },
  {
   "cell_type": "code",
   "execution_count": 4,
   "id": "cc3b5f47",
   "metadata": {},
   "outputs": [],
   "source": [
    "df = pd.read_csv('laptops.csv')"
   ]
  },
  {
   "cell_type": "code",
   "execution_count": 5,
   "id": "6a985307",
   "metadata": {},
   "outputs": [
    {
     "data": {
      "text/plain": [
       "Index(['Laptop', 'Status', 'Brand', 'Model', 'CPU', 'RAM', 'Storage',\n",
       "       'Storage type', 'GPU', 'Screen', 'Touch', 'Final Price'],\n",
       "      dtype='object')"
      ]
     },
     "execution_count": 5,
     "metadata": {},
     "output_type": "execute_result"
    }
   ],
   "source": [
    "df.columns"
   ]
  },
  {
   "cell_type": "code",
   "execution_count": 7,
   "id": "178f0075",
   "metadata": {},
   "outputs": [],
   "source": [
    "df.columns = df.columns.str.lower().str.replace(' ', '_')"
   ]
  },
  {
   "cell_type": "code",
   "execution_count": 9,
   "id": "8c6bb924",
   "metadata": {},
   "outputs": [
    {
     "data": {
      "text/plain": [
       "['laptop', 'status', 'brand', 'model', 'cpu', 'storage_type', 'gpu', 'touch']"
      ]
     },
     "execution_count": 9,
     "metadata": {},
     "output_type": "execute_result"
    }
   ],
   "source": [
    "string =  list(df.dtypes[df.dtypes == \"object\"].index)\n",
    "string"
   ]
  },
  {
   "cell_type": "code",
   "execution_count": 10,
   "id": "83de57ce",
   "metadata": {},
   "outputs": [],
   "source": [
    "for col in string:\n",
    "    df[col] = df[col].str.lower().str.replace(' ', '_')"
   ]
  },
  {
   "cell_type": "code",
   "execution_count": 13,
   "id": "0675cb03",
   "metadata": {},
   "outputs": [
    {
     "data": {
      "text/html": [
       "<div>\n",
       "<style scoped>\n",
       "    .dataframe tbody tr th:only-of-type {\n",
       "        vertical-align: middle;\n",
       "    }\n",
       "\n",
       "    .dataframe tbody tr th {\n",
       "        vertical-align: top;\n",
       "    }\n",
       "\n",
       "    .dataframe thead th {\n",
       "        text-align: right;\n",
       "    }\n",
       "</style>\n",
       "<table border=\"1\" class=\"dataframe\">\n",
       "  <thead>\n",
       "    <tr style=\"text-align: right;\">\n",
       "      <th></th>\n",
       "      <th>laptop</th>\n",
       "      <th>status</th>\n",
       "      <th>brand</th>\n",
       "      <th>model</th>\n",
       "      <th>cpu</th>\n",
       "      <th>ram</th>\n",
       "      <th>storage</th>\n",
       "      <th>storage_type</th>\n",
       "      <th>gpu</th>\n",
       "      <th>screen</th>\n",
       "      <th>touch</th>\n",
       "      <th>final_price</th>\n",
       "    </tr>\n",
       "  </thead>\n",
       "  <tbody>\n",
       "    <tr>\n",
       "      <th>788</th>\n",
       "      <td>acer_predator_triton_500_se_pt516-51s-75k6_int...</td>\n",
       "      <td>new</td>\n",
       "      <td>acer</td>\n",
       "      <td>predator</td>\n",
       "      <td>intel_core_i7</td>\n",
       "      <td>32</td>\n",
       "      <td>1000</td>\n",
       "      <td>ssd</td>\n",
       "      <td>rtx_3080</td>\n",
       "      <td>16.0</td>\n",
       "      <td>no</td>\n",
       "      <td>2739.00</td>\n",
       "    </tr>\n",
       "    <tr>\n",
       "      <th>1447</th>\n",
       "      <td>hp_pavilion_14-dv1009ns_intel_core_i5-1155g7/1...</td>\n",
       "      <td>new</td>\n",
       "      <td>hp</td>\n",
       "      <td>pavilion</td>\n",
       "      <td>intel_core_i5</td>\n",
       "      <td>16</td>\n",
       "      <td>512</td>\n",
       "      <td>ssd</td>\n",
       "      <td>NaN</td>\n",
       "      <td>14.0</td>\n",
       "      <td>no</td>\n",
       "      <td>920.82</td>\n",
       "    </tr>\n",
       "    <tr>\n",
       "      <th>830</th>\n",
       "      <td>asus_f515ea-ej1564w_intel_core_i3-1115g4/8gb/2...</td>\n",
       "      <td>new</td>\n",
       "      <td>asus</td>\n",
       "      <td>f515</td>\n",
       "      <td>intel_core_i3</td>\n",
       "      <td>8</td>\n",
       "      <td>256</td>\n",
       "      <td>ssd</td>\n",
       "      <td>NaN</td>\n",
       "      <td>15.6</td>\n",
       "      <td>no</td>\n",
       "      <td>391.60</td>\n",
       "    </tr>\n",
       "    <tr>\n",
       "      <th>677</th>\n",
       "      <td>lenovo_thinkpad_l14_gen_2_intel_core_i5-1145g7...</td>\n",
       "      <td>new</td>\n",
       "      <td>lenovo</td>\n",
       "      <td>thinkpad</td>\n",
       "      <td>intel_core_i5</td>\n",
       "      <td>16</td>\n",
       "      <td>256</td>\n",
       "      <td>ssd</td>\n",
       "      <td>NaN</td>\n",
       "      <td>14.0</td>\n",
       "      <td>no</td>\n",
       "      <td>869.00</td>\n",
       "    </tr>\n",
       "    <tr>\n",
       "      <th>451</th>\n",
       "      <td>lenovo_ideapad_flex_5_14itl05_intel_core_i7-11...</td>\n",
       "      <td>new</td>\n",
       "      <td>lenovo</td>\n",
       "      <td>ideapad</td>\n",
       "      <td>intel_core_i7</td>\n",
       "      <td>16</td>\n",
       "      <td>512</td>\n",
       "      <td>ssd</td>\n",
       "      <td>NaN</td>\n",
       "      <td>14.0</td>\n",
       "      <td>yes</td>\n",
       "      <td>979.00</td>\n",
       "    </tr>\n",
       "  </tbody>\n",
       "</table>\n",
       "</div>"
      ],
      "text/plain": [
       "                                                 laptop status   brand  \\\n",
       "788   acer_predator_triton_500_se_pt516-51s-75k6_int...    new    acer   \n",
       "1447  hp_pavilion_14-dv1009ns_intel_core_i5-1155g7/1...    new      hp   \n",
       "830   asus_f515ea-ej1564w_intel_core_i3-1115g4/8gb/2...    new    asus   \n",
       "677   lenovo_thinkpad_l14_gen_2_intel_core_i5-1145g7...    new  lenovo   \n",
       "451   lenovo_ideapad_flex_5_14itl05_intel_core_i7-11...    new  lenovo   \n",
       "\n",
       "         model            cpu  ram  storage storage_type       gpu  screen  \\\n",
       "788   predator  intel_core_i7   32     1000          ssd  rtx_3080    16.0   \n",
       "1447  pavilion  intel_core_i5   16      512          ssd       NaN    14.0   \n",
       "830       f515  intel_core_i3    8      256          ssd       NaN    15.6   \n",
       "677   thinkpad  intel_core_i5   16      256          ssd       NaN    14.0   \n",
       "451    ideapad  intel_core_i7   16      512          ssd       NaN    14.0   \n",
       "\n",
       "     touch  final_price  \n",
       "788     no      2739.00  \n",
       "1447    no       920.82  \n",
       "830     no       391.60  \n",
       "677     no       869.00  \n",
       "451    yes       979.00  "
      ]
     },
     "execution_count": 13,
     "metadata": {},
     "output_type": "execute_result"
    }
   ],
   "source": [
    "df.sample(5)"
   ]
  },
  {
   "cell_type": "markdown",
   "id": "ea710b57",
   "metadata": {},
   "source": [
    "<hr style=\"border-top: 2px solid black;\">"
   ]
  },
  {
   "cell_type": "markdown",
   "id": "8ebdca7b",
   "metadata": {},
   "source": [
    "### Q2. Recuento de registros\n",
    "¿Cuántos registros hay en el conjunto de datos?\n",
    "- 12\n",
    "- 1000\n",
    "- 2160 ✅\n",
    "- 12160 \n"
   ]
  },
  {
   "cell_type": "code",
   "execution_count": 10,
   "id": "a6d63e0a",
   "metadata": {},
   "outputs": [
    {
     "data": {
      "text/plain": [
       "2160"
      ]
     },
     "execution_count": 10,
     "metadata": {},
     "output_type": "execute_result"
    }
   ],
   "source": [
    "registros = df.shape[0]\n",
    "registros"
   ]
  },
  {
   "cell_type": "markdown",
   "id": "d331ab17",
   "metadata": {},
   "source": [
    "<hr style=\"border-top: 2px solid black;\">"
   ]
  },
  {
   "cell_type": "markdown",
   "id": "28d4be13",
   "metadata": {},
   "source": [
    "### Q3. Marcas de portátiles\n",
    "¿Cuántas marcas de computadoras portátiles se presentan en el conjunto de datos?\n",
    "\n",
    "- 12\n",
    "- 27 ✅\n",
    "- 28\n",
    "- 2160"
   ]
  },
  {
   "cell_type": "code",
   "execution_count": 14,
   "id": "2ef9339b",
   "metadata": {},
   "outputs": [
    {
     "data": {
      "text/plain": [
       "27"
      ]
     },
     "execution_count": 14,
     "metadata": {},
     "output_type": "execute_result"
    }
   ],
   "source": [
    "marcas = df['Brand'].nunique()\n",
    "marcas"
   ]
  },
  {
   "cell_type": "markdown",
   "id": "7466ef79",
   "metadata": {},
   "source": [
    "<hr style=\"border-top: 2px solid black;\">"
   ]
  },
  {
   "cell_type": "markdown",
   "id": "3d888253",
   "metadata": {},
   "source": [
    "### Q4. Valores faltantes\n",
    "¿Cuántas columnas del conjunto de datos tienen valores faltantes?\n",
    "\n",
    "- 0\n",
    "- 1\n",
    "- 2\n",
    "- 3 ✅"
   ]
  },
  {
   "cell_type": "code",
   "execution_count": 22,
   "id": "ae432768",
   "metadata": {},
   "outputs": [
    {
     "name": "stdout",
     "output_type": "stream",
     "text": [
      "3\n"
     ]
    }
   ],
   "source": [
    "valoresNulos = df.isnull().any().sum()\n",
    "print(valoresNulos)"
   ]
  },
  {
   "cell_type": "markdown",
   "id": "6382f230",
   "metadata": {},
   "source": [
    "<hr style=\"border-top: 2px solid black;\">"
   ]
  },
  {
   "cell_type": "markdown",
   "id": "892eb5a6",
   "metadata": {},
   "source": [
    "### Q5. Precio final máximo\n",
    "¿Cuál es el precio final máximo de los portátiles Dell en el conjunto de datos?\n",
    "\n",
    "- 869\n",
    "- 3691\n",
    "- 3849\n",
    "- 3936 ✅"
   ]
  },
  {
   "cell_type": "code",
   "execution_count": 26,
   "id": "1ad97946",
   "metadata": {},
   "outputs": [
    {
     "data": {
      "text/plain": [
       "3936.0"
      ]
     },
     "execution_count": 26,
     "metadata": {},
     "output_type": "execute_result"
    }
   ],
   "source": [
    "precio_maxixo_dell = df[df[\"brand\"] == \"dell\"][\"final_price\"].max()\n",
    "precio_maxixo_dell"
   ]
  },
  {
   "cell_type": "markdown",
   "id": "a0eea6b5",
   "metadata": {},
   "source": [
    "<hr style=\"border-top: 2px solid black;\">"
   ]
  },
  {
   "cell_type": "markdown",
   "id": "5c8e071b",
   "metadata": {},
   "source": [
    "### Q6. Valor medio de la pantalla\n",
    "Encuentra el valor mediano de Screen columna en el conjunto de datos.\n",
    "A continuación, calcule el valor más frecuente del mismo Screen columna.\n",
    "Uso fillna método para completar los valores faltantes en Screen columna con el valor más frecuente del paso anterior.\n",
    "Ahora, calcule el valor mediano de Screen una vez más.\n",
    "¿Ha cambiado?\n",
    "\n",
    "Sugerencia: consulte existente mode y median funciones para completar la tarea.\n",
    "\n",
    "- Sí\n",
    "- No ✅"
   ]
  },
  {
   "cell_type": "code",
   "execution_count": 36,
   "id": "b864300c",
   "metadata": {},
   "outputs": [
    {
     "name": "stdout",
     "output_type": "stream",
     "text": [
      "Este es el valor mediano 15.6\n",
      "Este es el valor mas frecuente 15.6\n",
      "Este es valor mediano sin datos faltantes 15.6\n"
     ]
    }
   ],
   "source": [
    "valorMediano = df[\"screen\"].median()\n",
    "print(f'Este es el valor mediano {valorMediano}')\n",
    "valorFrecuente = df[\"screen\"].mode()[0]\n",
    "print(f'Este es el valor mas frecuente {valorFrecuente}')\n",
    "valoresFaltantes = df.fillna(valorFrecuente)\n",
    "valorMediano2 = df.screen.median()\n",
    "print(f'Este es valor mediano sin datos faltantes {valorMediano2}')\n",
    "\n"
   ]
  },
  {
   "cell_type": "markdown",
   "id": "e7372459",
   "metadata": {},
   "source": [
    "<hr style=\"border-top: 2px solid black;\">"
   ]
  },
  {
   "cell_type": "markdown",
   "id": "4be580c6",
   "metadata": {},
   "source": [
    "### Q7. Suma de pesos\n",
    "Seleccione todas las computadoras portátiles \"Innjoo\" del conjunto de datos.\n",
    "Seleccione solo columnas RAM, Storage, Screen.\n",
    "Obtenga la matriz NumPy subyacente. Vamos a llamarlo X.\n",
    "Calcular la multiplicación matriz-matriz entre la transpuesta de X y X. Para obtener la transposición, utilice X.T. Llamemos al resultado XTX.\n",
    "Calcule la inversa de XTX.\n",
    "Crea una matriz y con valores [1100, 1300, 800, 900, 1000, 1100].\n",
    "Multiplica la inversa de XTX con la transposición de X, y luego multiplica el resultado por y. Llame al resultado w.\n",
    "¿Cuál es la suma de todos los elementos del resultado?\n",
    "Nota: Acabas de implementar la regresión lineal. Hablaremos de ello en la próxima lección.\n",
    "\n",
    "- 0,43\n",
    "- 45,29\n",
    "- 45,58\n",
    "- 91.30 ✅"
   ]
  },
  {
   "cell_type": "code",
   "execution_count": 42,
   "id": "101f6ec8",
   "metadata": {},
   "outputs": [
    {
     "name": "stdout",
     "output_type": "stream",
     "text": [
      "91.3\n"
     ]
    }
   ],
   "source": [
    "X = df[df['brand'] == 'innjoo'][['ram', 'storage', 'screen' ]]\n",
    "XTX = X.T.dot(X)\n",
    "XTX\n",
    "XTX_inv = np.linalg.inv(XTX)\n",
    "y = np.array([1100, 1300, 800, 900, 1000, 1100])\n",
    "w = XTX_inv.dot(X.T).dot(y)\n",
    "print(w.sum().round(3))"
   ]
  }
 ],
 "metadata": {
  "kernelspec": {
   "display_name": "mi_nuevo_env (WSL)",
   "language": "python",
   "name": "mi_nuevo_env"
  },
  "language_info": {
   "codemirror_mode": {
    "name": "ipython",
    "version": 3
   },
   "file_extension": ".py",
   "mimetype": "text/x-python",
   "name": "python",
   "nbconvert_exporter": "python",
   "pygments_lexer": "ipython3",
   "version": "3.11.13"
  }
 },
 "nbformat": 4,
 "nbformat_minor": 5
}
