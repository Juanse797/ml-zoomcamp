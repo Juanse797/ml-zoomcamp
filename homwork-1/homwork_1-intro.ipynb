{
 "cells": [
  {
   "cell_type": "code",
   "execution_count": 2,
   "id": "81e6292c",
   "metadata": {},
   "outputs": [],
   "source": [
    "#importando librerias\n",
    "import pandas as pd\n",
    "import numpy as np\n",
    "import matplotlib.pyplot as plt\n",
    "import seaborn as sns\n",
    "\n"
   ]
  },
  {
   "cell_type": "markdown",
   "id": "efc81df9",
   "metadata": {},
   "source": [
    "### Q1. Versión de Pandas "
   ]
  },
  {
   "cell_type": "code",
   "execution_count": 3,
   "id": "9f3587ed",
   "metadata": {},
   "outputs": [
    {
     "data": {
      "text/plain": [
       "'2.3.2'"
      ]
     },
     "execution_count": 3,
     "metadata": {},
     "output_type": "execute_result"
    }
   ],
   "source": [
    "#verificando la version de pandas\n",
    "pd.__version__"
   ]
  },
  {
   "cell_type": "code",
   "execution_count": 3,
   "id": "95bd1b5f",
   "metadata": {},
   "outputs": [
    {
     "name": "stdout",
     "output_type": "stream",
     "text": [
      "--2025-09-13 18:31:57--  https://raw.githubusercontent.com/alexeygrigorev/datasets/master/laptops.csv\n",
      "Resolving raw.githubusercontent.com (raw.githubusercontent.com)... 185.199.108.133, 185.199.109.133, 185.199.110.133, ...\n",
      "Connecting to raw.githubusercontent.com (raw.githubusercontent.com)|185.199.108.133|:443... connected.\n",
      "HTTP request sent, awaiting response... 200 OK\n",
      "Length: 298573 (292K) [text/plain]\n",
      "Saving to: ‘laptops.csv.2’\n",
      "\n",
      "laptops.csv.2       100%[===================>] 291.58K  --.-KB/s    in 0.05s   \n",
      "\n",
      "2025-09-13 18:31:57 (5.59 MB/s) - ‘laptops.csv.2’ saved [298573/298573]\n",
      "\n"
     ]
    }
   ],
   "source": [
    "#descargando el dataset\n",
    "!wget https://raw.githubusercontent.com/alexeygrigorev/datasets/master/laptops.csv"
   ]
  },
  {
   "cell_type": "code",
   "execution_count": 4,
   "id": "7dac3c93",
   "metadata": {},
   "outputs": [],
   "source": [
    "# cargando el dataset\n",
    "df = pd.read_csv('laptops.csv')"
   ]
  },
  {
   "cell_type": "code",
   "execution_count": 21,
   "id": "54ac3ac7",
   "metadata": {},
   "outputs": [
    {
     "data": {
      "text/html": [
       "<div>\n",
       "<style scoped>\n",
       "    .dataframe tbody tr th:only-of-type {\n",
       "        vertical-align: middle;\n",
       "    }\n",
       "\n",
       "    .dataframe tbody tr th {\n",
       "        vertical-align: top;\n",
       "    }\n",
       "\n",
       "    .dataframe thead th {\n",
       "        text-align: right;\n",
       "    }\n",
       "</style>\n",
       "<table border=\"1\" class=\"dataframe\">\n",
       "  <thead>\n",
       "    <tr style=\"text-align: right;\">\n",
       "      <th></th>\n",
       "      <th>Laptop</th>\n",
       "      <th>Status</th>\n",
       "      <th>Brand</th>\n",
       "      <th>Model</th>\n",
       "      <th>CPU</th>\n",
       "      <th>RAM</th>\n",
       "      <th>Storage</th>\n",
       "      <th>Storage type</th>\n",
       "      <th>GPU</th>\n",
       "      <th>Screen</th>\n",
       "      <th>Touch</th>\n",
       "      <th>Final Price</th>\n",
       "    </tr>\n",
       "  </thead>\n",
       "  <tbody>\n",
       "    <tr>\n",
       "      <th>163</th>\n",
       "      <td>ASUS TUF Gaming A15 2023 FA507NV-LP031W AMD Ry...</td>\n",
       "      <td>New</td>\n",
       "      <td>Asus</td>\n",
       "      <td>TUF</td>\n",
       "      <td>AMD Ryzen 7</td>\n",
       "      <td>16</td>\n",
       "      <td>512</td>\n",
       "      <td>SSD</td>\n",
       "      <td>RTX 4060</td>\n",
       "      <td>15.6</td>\n",
       "      <td>No</td>\n",
       "      <td>1349.00</td>\n",
       "    </tr>\n",
       "    <tr>\n",
       "      <th>1578</th>\n",
       "      <td>Lenovo V15 G3 ABA AMD Ryzen 5 5625U/8GB/512GB ...</td>\n",
       "      <td>New</td>\n",
       "      <td>Lenovo</td>\n",
       "      <td>V15</td>\n",
       "      <td>AMD Ryzen 5</td>\n",
       "      <td>8</td>\n",
       "      <td>512</td>\n",
       "      <td>SSD</td>\n",
       "      <td>NaN</td>\n",
       "      <td>15.6</td>\n",
       "      <td>No</td>\n",
       "      <td>547.63</td>\n",
       "    </tr>\n",
       "    <tr>\n",
       "      <th>648</th>\n",
       "      <td>HP OMEN 17-ck0013ns Intel Core i7-11800H/32GB/...</td>\n",
       "      <td>New</td>\n",
       "      <td>HP</td>\n",
       "      <td>Omen</td>\n",
       "      <td>Intel Core i7</td>\n",
       "      <td>32</td>\n",
       "      <td>1000</td>\n",
       "      <td>SSD</td>\n",
       "      <td>RTX 3060</td>\n",
       "      <td>17.3</td>\n",
       "      <td>No</td>\n",
       "      <td>1699.01</td>\n",
       "    </tr>\n",
       "    <tr>\n",
       "      <th>1762</th>\n",
       "      <td>Apple MacBook Pro Intel Core i5/8GB/256GB SSD/...</td>\n",
       "      <td>Refurbished</td>\n",
       "      <td>Apple</td>\n",
       "      <td>MacBook Pro</td>\n",
       "      <td>Intel Core i5</td>\n",
       "      <td>8</td>\n",
       "      <td>256</td>\n",
       "      <td>SSD</td>\n",
       "      <td>NaN</td>\n",
       "      <td>13.3</td>\n",
       "      <td>No</td>\n",
       "      <td>1155.01</td>\n",
       "    </tr>\n",
       "    <tr>\n",
       "      <th>461</th>\n",
       "      <td>MSI Creator M16 B13UDX-686ES Intel Core i7-137...</td>\n",
       "      <td>New</td>\n",
       "      <td>MSI</td>\n",
       "      <td>Creator</td>\n",
       "      <td>Intel Core i7</td>\n",
       "      <td>16</td>\n",
       "      <td>1000</td>\n",
       "      <td>SSD</td>\n",
       "      <td>RTX 3050</td>\n",
       "      <td>16.0</td>\n",
       "      <td>No</td>\n",
       "      <td>1699.01</td>\n",
       "    </tr>\n",
       "  </tbody>\n",
       "</table>\n",
       "</div>"
      ],
      "text/plain": [
       "                                                 Laptop       Status   Brand  \\\n",
       "163   ASUS TUF Gaming A15 2023 FA507NV-LP031W AMD Ry...          New    Asus   \n",
       "1578  Lenovo V15 G3 ABA AMD Ryzen 5 5625U/8GB/512GB ...          New  Lenovo   \n",
       "648   HP OMEN 17-ck0013ns Intel Core i7-11800H/32GB/...          New      HP   \n",
       "1762  Apple MacBook Pro Intel Core i5/8GB/256GB SSD/...  Refurbished   Apple   \n",
       "461   MSI Creator M16 B13UDX-686ES Intel Core i7-137...          New     MSI   \n",
       "\n",
       "            Model            CPU  RAM  Storage Storage type       GPU  Screen  \\\n",
       "163           TUF    AMD Ryzen 7   16      512          SSD  RTX 4060    15.6   \n",
       "1578          V15    AMD Ryzen 5    8      512          SSD       NaN    15.6   \n",
       "648          Omen  Intel Core i7   32     1000          SSD  RTX 3060    17.3   \n",
       "1762  MacBook Pro  Intel Core i5    8      256          SSD       NaN    13.3   \n",
       "461       Creator  Intel Core i7   16     1000          SSD  RTX 3050    16.0   \n",
       "\n",
       "     Touch  Final Price  \n",
       "163     No      1349.00  \n",
       "1578    No       547.63  \n",
       "648     No      1699.01  \n",
       "1762    No      1155.01  \n",
       "461     No      1699.01  "
      ]
     },
     "execution_count": 21,
     "metadata": {},
     "output_type": "execute_result"
    }
   ],
   "source": [
    "df.sample(5)"
   ]
  },
  {
   "cell_type": "markdown",
   "id": "de44bf56",
   "metadata": {},
   "source": [
    "### Q2. Recuento de registros\n",
    "\n",
    "¿Cuántos registros hay en el conjunto de datos?"
   ]
  },
  {
   "cell_type": "markdown",
   "id": "42a3e5b6",
   "metadata": {},
   "source": [
    "- 12\n",
    "- 1000\n",
    "- 2160 ✅\n",
    "- 12160"
   ]
  },
  {
   "cell_type": "code",
   "execution_count": 5,
   "id": "94734e53",
   "metadata": {},
   "outputs": [
    {
     "data": {
      "text/plain": [
       "2160"
      ]
     },
     "execution_count": 5,
     "metadata": {},
     "output_type": "execute_result"
    }
   ],
   "source": [
    "#calculando el total de registros\n",
    "totalRegistros = df.shape[0]\n",
    "totalRegistros\n"
   ]
  },
  {
   "cell_type": "markdown",
   "id": "d454615e",
   "metadata": {},
   "source": [
    "### Q3. Marcas de portátiles\n",
    "¿Cuántas marcas de computadoras portátiles se presentan en el conjunto de datos?\n",
    "\n",
    "- 12\n",
    "- 27 ✅\n",
    "- 28\n",
    "- 2160"
   ]
  },
  {
   "cell_type": "code",
   "execution_count": 6,
   "id": "fddacdc2",
   "metadata": {},
   "outputs": [
    {
     "data": {
      "text/plain": [
       "27"
      ]
     },
     "execution_count": 6,
     "metadata": {},
     "output_type": "execute_result"
    }
   ],
   "source": [
    "df['Brand'].nunique()"
   ]
  },
  {
   "cell_type": "markdown",
   "id": "c7293dcb",
   "metadata": {},
   "source": [
    "### Q4. Valores faltantes\n",
    "¿Cuántas columnas del conjunto de datos tienen valores faltantes?\n",
    "\n",
    "- 0\n",
    "- 1\n",
    "- 2\n",
    "- 3 ✅"
   ]
  },
  {
   "cell_type": "code",
   "execution_count": 7,
   "id": "313c501c",
   "metadata": {},
   "outputs": [
    {
     "data": {
      "text/plain": [
       "Laptop             0\n",
       "Status             0\n",
       "Brand              0\n",
       "Model              0\n",
       "CPU                0\n",
       "RAM                0\n",
       "Storage            0\n",
       "Storage type      42\n",
       "GPU             1371\n",
       "Screen             4\n",
       "Touch              0\n",
       "Final Price        0\n",
       "dtype: int64"
      ]
     },
     "execution_count": 7,
     "metadata": {},
     "output_type": "execute_result"
    }
   ],
   "source": [
    "#verificando si hay valores faltantes\n",
    "df.isnull().any()\n",
    "#verificando la cantidad de valores faltantes\n",
    "df.isnull().sum()"
   ]
  },
  {
   "cell_type": "markdown",
   "id": "bb56cd34",
   "metadata": {},
   "source": [
    "### Q5. Precio final máximo\n",
    "¿Cuál es el precio final máximo de los portátiles Dell en el conjunto de datos?\n",
    "\n",
    "- 869\n",
    "- 3691\n",
    "- 3849\n",
    "- 3936 ✅"
   ]
  },
  {
   "cell_type": "code",
   "execution_count": 8,
   "id": "47d92c19",
   "metadata": {},
   "outputs": [
    {
     "data": {
      "text/plain": [
       "3936.0"
      ]
     },
     "execution_count": 8,
     "metadata": {},
     "output_type": "execute_result"
    }
   ],
   "source": [
    "#precion maximo de dell\n",
    "Q5 = df[df['Brand'] == 'Dell']['Final Price'].max()\n",
    "\n",
    "Q5"
   ]
  },
  {
   "cell_type": "markdown",
   "id": "13599f04",
   "metadata": {},
   "source": [
    "### Q6. Valor medio de la pantalla\n",
    "Encuentra el valor mediano de Screen columna en el conjunto de datos.\n",
    "A continuación, calcule el valor más frecuente del mismo Screen columna.\n",
    "Uso fillna método para completar los valores faltantes en Screen columna con el valor más frecuente del paso anterior.\n",
    "Ahora, calcule el valor mediano de Screen una vez más.\n",
    "¿Ha cambiado?\n",
    "\n",
    "Sugerencia: consulte existente mode y median funciones para completar la tarea.\n",
    "\n",
    "- Sí\n",
    "- No ✅"
   ]
  },
  {
   "cell_type": "code",
   "execution_count": 9,
   "id": "e785dd87",
   "metadata": {},
   "outputs": [
    {
     "data": {
      "text/plain": [
       "15.6"
      ]
     },
     "execution_count": 9,
     "metadata": {},
     "output_type": "execute_result"
    }
   ],
   "source": [
    "#valor mediana de la columna screen\n",
    "valor_mediana = df[\"Screen\"].median()\n",
    "valor_mediana"
   ]
  },
  {
   "cell_type": "code",
   "execution_count": 10,
   "id": "6a11ec2c",
   "metadata": {},
   "outputs": [
    {
     "data": {
      "text/plain": [
       "np.float64(15.6)"
      ]
     },
     "execution_count": 10,
     "metadata": {},
     "output_type": "execute_result"
    }
   ],
   "source": [
    "#valor mas frecuente de la columna screen\n",
    "valor_frecuencia = df[\"Screen\"].mode()[0]\n",
    "valor_frecuencia"
   ]
  },
  {
   "cell_type": "code",
   "execution_count": 14,
   "id": "68c4704e",
   "metadata": {},
   "outputs": [
    {
     "name": "stderr",
     "output_type": "stream",
     "text": [
      "/tmp/ipykernel_24090/1339044133.py:1: FutureWarning: A value is trying to be set on a copy of a DataFrame or Series through chained assignment using an inplace method.\n",
      "The behavior will change in pandas 3.0. This inplace method will never work because the intermediate object on which we are setting values always behaves as a copy.\n",
      "\n",
      "For example, when doing 'df[col].method(value, inplace=True)', try using 'df.method({col: value}, inplace=True)' or df[col] = df[col].method(value) instead, to perform the operation inplace on the original object.\n",
      "\n",
      "\n",
      "  df['Screen'].fillna(valor_frecuencia, inplace=True)\n"
     ]
    }
   ],
   "source": [
    "df['Screen'].fillna(valor_frecuencia, inplace=True)\n"
   ]
  },
  {
   "cell_type": "code",
   "execution_count": 17,
   "id": "2ece4b68",
   "metadata": {},
   "outputs": [
    {
     "data": {
      "text/plain": [
       "15.6"
      ]
     },
     "execution_count": 17,
     "metadata": {},
     "output_type": "execute_result"
    }
   ],
   "source": [
    "df[\"Screen\"].median()"
   ]
  },
  {
   "cell_type": "markdown",
   "id": "3608beaf",
   "metadata": {},
   "source": [
    "Q7. Suma de pesos\n",
    "Seleccione todas las computadoras portátiles \"Innjoo\" del conjunto de datos.\n",
    "Seleccione solo columnas RAM, Storage, Screen.\n",
    "Obtenga la matriz NumPy subyacente. Vamos a llamarlo X.\n",
    "Calcular la multiplicación matriz-matriz entre la transpuesta de X y X. Para obtener la transposición, utilice X.T. Llamemos al resultado XTX.\n",
    "Calcule la inversa de XTX.\n",
    "Crea una matriz y con valores [1100, 1300, 800, 900, 1000, 1100].\n",
    "Multiplica la inversa de XTX con la transposición de X, y luego multiplica el resultado por y. Llame al resultado w.\n",
    "¿Cuál es la suma de todos los elementos del resultado?\n",
    "Nota: Acabas de implementar la regresión lineal. Hablaremos de ello en la próxima lección.\n",
    "\n",
    "- 0,43\n",
    "- 45,29\n",
    "- 45,58\n",
    "- 91.30 ✅"
   ]
  },
  {
   "cell_type": "code",
   "execution_count": 36,
   "id": "ab715113",
   "metadata": {},
   "outputs": [
    {
     "data": {
      "text/plain": [
       "np.float64(91.29988062995457)"
      ]
     },
     "execution_count": 36,
     "metadata": {},
     "output_type": "execute_result"
    }
   ],
   "source": [
    "X = df[df['Brand'] == 'Innjoo'][['RAM', 'Storage', 'Screen' ]]\n",
    "XTX = X.T.dot(X)\n",
    "XTX\n",
    "XTX_inv = np.linalg.inv(XTX)\n",
    "y = np.array([1100, 1300, 800, 900, 1000, 1100])\n",
    "w = XTX_inv.dot(X.T).dot(y)\n",
    "w.sum()"
   ]
  }
 ],
 "metadata": {
  "kernelspec": {
   "display_name": "mi_nuevo_env (WSL)",
   "language": "python",
   "name": "mi_nuevo_env"
  },
  "language_info": {
   "codemirror_mode": {
    "name": "ipython",
    "version": 3
   },
   "file_extension": ".py",
   "mimetype": "text/x-python",
   "name": "python",
   "nbconvert_exporter": "python",
   "pygments_lexer": "ipython3",
   "version": "3.11.13"
  }
 },
 "nbformat": 4,
 "nbformat_minor": 5
}
