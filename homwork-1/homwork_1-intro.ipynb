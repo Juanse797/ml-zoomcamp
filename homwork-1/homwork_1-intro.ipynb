{
 "cells": [
  {
   "cell_type": "code",
   "execution_count": 1,
   "id": "81e6292c",
   "metadata": {},
   "outputs": [],
   "source": [
    "#importando librerias\n",
    "import pandas as pd\n",
    "import numpy as np\n",
    "import matplotlib.pyplot as plt\n",
    "import seaborn as sns\n",
    "\n"
   ]
  },
  {
   "cell_type": "markdown",
   "id": "b789481a",
   "metadata": {},
   "source": [
    "<hr style=\"border-top: 2px solid black;\">"
   ]
  },
  {
   "cell_type": "markdown",
   "id": "efc81df9",
   "metadata": {},
   "source": [
    "### Q1. Versión de Pandas "
   ]
  },
  {
   "cell_type": "code",
   "execution_count": 3,
   "id": "9f3587ed",
   "metadata": {},
   "outputs": [
    {
     "data": {
      "text/plain": [
       "'2.3.2'"
      ]
     },
     "execution_count": 3,
     "metadata": {},
     "output_type": "execute_result"
    }
   ],
   "source": [
    "#verificando la version de pandas\n",
    "pd.__version__"
   ]
  },
  {
   "cell_type": "markdown",
   "id": "e0501e5b",
   "metadata": {},
   "source": [
    "<hr style=\"border-top: 2px solid black;\">"
   ]
  },
  {
   "cell_type": "code",
   "execution_count": 4,
   "id": "95bd1b5f",
   "metadata": {},
   "outputs": [
    {
     "name": "stdout",
     "output_type": "stream",
     "text": [
      "--2025-09-13 19:50:55--  https://raw.githubusercontent.com/alexeygrigorev/datasets/master/laptops.csv\n",
      "Resolving raw.githubusercontent.com (raw.githubusercontent.com)... 185.199.111.133, 185.199.108.133, 185.199.109.133, ...\n",
      "Connecting to raw.githubusercontent.com (raw.githubusercontent.com)|185.199.111.133|:443... connected.\n",
      "HTTP request sent, awaiting response... 200 OK\n",
      "Length: 298573 (292K) [text/plain]\n",
      "Saving to: ‘laptops.csv.1’\n",
      "\n",
      "laptops.csv.1       100%[===================>] 291.58K  --.-KB/s    in 0.06s   \n",
      "\n",
      "2025-09-13 19:50:55 (4.79 MB/s) - ‘laptops.csv.1’ saved [298573/298573]\n",
      "\n"
     ]
    }
   ],
   "source": [
    "#descargando el dataset\n",
    "!wget https://raw.githubusercontent.com/alexeygrigorev/datasets/master/laptops.csv"
   ]
  },
  {
   "cell_type": "code",
   "execution_count": 5,
   "id": "7dac3c93",
   "metadata": {},
   "outputs": [],
   "source": [
    "# cargando el dataset\n",
    "df = pd.read_csv('laptops.csv')"
   ]
  },
  {
   "cell_type": "code",
   "execution_count": 6,
   "id": "54ac3ac7",
   "metadata": {},
   "outputs": [
    {
     "data": {
      "text/html": [
       "<div>\n",
       "<style scoped>\n",
       "    .dataframe tbody tr th:only-of-type {\n",
       "        vertical-align: middle;\n",
       "    }\n",
       "\n",
       "    .dataframe tbody tr th {\n",
       "        vertical-align: top;\n",
       "    }\n",
       "\n",
       "    .dataframe thead th {\n",
       "        text-align: right;\n",
       "    }\n",
       "</style>\n",
       "<table border=\"1\" class=\"dataframe\">\n",
       "  <thead>\n",
       "    <tr style=\"text-align: right;\">\n",
       "      <th></th>\n",
       "      <th>Laptop</th>\n",
       "      <th>Status</th>\n",
       "      <th>Brand</th>\n",
       "      <th>Model</th>\n",
       "      <th>CPU</th>\n",
       "      <th>RAM</th>\n",
       "      <th>Storage</th>\n",
       "      <th>Storage type</th>\n",
       "      <th>GPU</th>\n",
       "      <th>Screen</th>\n",
       "      <th>Touch</th>\n",
       "      <th>Final Price</th>\n",
       "    </tr>\n",
       "  </thead>\n",
       "  <tbody>\n",
       "    <tr>\n",
       "      <th>856</th>\n",
       "      <td>ASUS TUF Gaming F15 TUF506HC-HN088 Intel Core ...</td>\n",
       "      <td>New</td>\n",
       "      <td>Asus</td>\n",
       "      <td>TUF</td>\n",
       "      <td>Intel Core i5</td>\n",
       "      <td>16</td>\n",
       "      <td>512</td>\n",
       "      <td>SSD</td>\n",
       "      <td>RTX 3050</td>\n",
       "      <td>15.6</td>\n",
       "      <td>No</td>\n",
       "      <td>769.00</td>\n",
       "    </tr>\n",
       "    <tr>\n",
       "      <th>1779</th>\n",
       "      <td>Asus ROG G513QM-HF026 AMD Ryzen 7 5800H/16GB/1...</td>\n",
       "      <td>Refurbished</td>\n",
       "      <td>Asus</td>\n",
       "      <td>ROG</td>\n",
       "      <td>AMD Ryzen 7</td>\n",
       "      <td>16</td>\n",
       "      <td>1000</td>\n",
       "      <td>SSD</td>\n",
       "      <td>RTX 3060</td>\n",
       "      <td>15.6</td>\n",
       "      <td>No</td>\n",
       "      <td>1020.84</td>\n",
       "    </tr>\n",
       "    <tr>\n",
       "      <th>255</th>\n",
       "      <td>LG Gram 17Z90Q Intel Evo Core i7-1260P/32GB/1T...</td>\n",
       "      <td>New</td>\n",
       "      <td>LG</td>\n",
       "      <td>Gram</td>\n",
       "      <td>Intel Evo Core i7</td>\n",
       "      <td>32</td>\n",
       "      <td>1000</td>\n",
       "      <td>SSD</td>\n",
       "      <td>NaN</td>\n",
       "      <td>17.0</td>\n",
       "      <td>No</td>\n",
       "      <td>1809.01</td>\n",
       "    </tr>\n",
       "    <tr>\n",
       "      <th>1256</th>\n",
       "      <td>ASUS VivoBook F515EA-BQ3013X Intel Core i5-113...</td>\n",
       "      <td>New</td>\n",
       "      <td>Asus</td>\n",
       "      <td>VivoBook</td>\n",
       "      <td>Intel Core i5</td>\n",
       "      <td>8</td>\n",
       "      <td>512</td>\n",
       "      <td>SSD</td>\n",
       "      <td>NaN</td>\n",
       "      <td>15.6</td>\n",
       "      <td>No</td>\n",
       "      <td>666.37</td>\n",
       "    </tr>\n",
       "    <tr>\n",
       "      <th>248</th>\n",
       "      <td>Lenovo V15 G2 ITL Intel Core i3-1115G4/8 GB/25...</td>\n",
       "      <td>New</td>\n",
       "      <td>Lenovo</td>\n",
       "      <td>V15</td>\n",
       "      <td>Intel Core i3</td>\n",
       "      <td>8</td>\n",
       "      <td>256</td>\n",
       "      <td>SSD</td>\n",
       "      <td>NaN</td>\n",
       "      <td>15.6</td>\n",
       "      <td>No</td>\n",
       "      <td>449.00</td>\n",
       "    </tr>\n",
       "  </tbody>\n",
       "</table>\n",
       "</div>"
      ],
      "text/plain": [
       "                                                 Laptop       Status   Brand  \\\n",
       "856   ASUS TUF Gaming F15 TUF506HC-HN088 Intel Core ...          New    Asus   \n",
       "1779  Asus ROG G513QM-HF026 AMD Ryzen 7 5800H/16GB/1...  Refurbished    Asus   \n",
       "255   LG Gram 17Z90Q Intel Evo Core i7-1260P/32GB/1T...          New      LG   \n",
       "1256  ASUS VivoBook F515EA-BQ3013X Intel Core i5-113...          New    Asus   \n",
       "248   Lenovo V15 G2 ITL Intel Core i3-1115G4/8 GB/25...          New  Lenovo   \n",
       "\n",
       "         Model                CPU  RAM  Storage Storage type       GPU  \\\n",
       "856        TUF      Intel Core i5   16      512          SSD  RTX 3050   \n",
       "1779       ROG        AMD Ryzen 7   16     1000          SSD  RTX 3060   \n",
       "255       Gram  Intel Evo Core i7   32     1000          SSD       NaN   \n",
       "1256  VivoBook      Intel Core i5    8      512          SSD       NaN   \n",
       "248        V15      Intel Core i3    8      256          SSD       NaN   \n",
       "\n",
       "      Screen Touch  Final Price  \n",
       "856     15.6    No       769.00  \n",
       "1779    15.6    No      1020.84  \n",
       "255     17.0    No      1809.01  \n",
       "1256    15.6    No       666.37  \n",
       "248     15.6    No       449.00  "
      ]
     },
     "execution_count": 6,
     "metadata": {},
     "output_type": "execute_result"
    }
   ],
   "source": [
    "df.sample(5)"
   ]
  },
  {
   "cell_type": "markdown",
   "id": "251f595b",
   "metadata": {},
   "source": [
    "<hr style=\"border-top: 2px solid black;\">"
   ]
  },
  {
   "cell_type": "markdown",
   "id": "de44bf56",
   "metadata": {},
   "source": [
    "### Q2. Recuento de registros\n",
    "\n",
    "¿Cuántos registros hay en el conjunto de datos?"
   ]
  },
  {
   "cell_type": "markdown",
   "id": "42a3e5b6",
   "metadata": {},
   "source": [
    "- 12\n",
    "- 1000\n",
    "- 2160 ✅\n",
    "- 12160"
   ]
  },
  {
   "cell_type": "code",
   "execution_count": 7,
   "id": "94734e53",
   "metadata": {},
   "outputs": [
    {
     "data": {
      "text/plain": [
       "2160"
      ]
     },
     "execution_count": 7,
     "metadata": {},
     "output_type": "execute_result"
    }
   ],
   "source": [
    "#calculando el total de registros\n",
    "totalRegistros = df.shape[0]\n",
    "totalRegistros\n"
   ]
  },
  {
   "cell_type": "markdown",
   "id": "a6a3f412",
   "metadata": {},
   "source": [
    "<hr style=\"border-top: 2px solid black;\">"
   ]
  },
  {
   "cell_type": "markdown",
   "id": "d454615e",
   "metadata": {},
   "source": [
    "### Q3. Marcas de portátiles\n",
    "¿Cuántas marcas de computadoras portátiles se presentan en el conjunto de datos?\n",
    "\n",
    "- 12\n",
    "- 27 ✅\n",
    "- 28\n",
    "- 2160"
   ]
  },
  {
   "cell_type": "code",
   "execution_count": 8,
   "id": "fddacdc2",
   "metadata": {},
   "outputs": [
    {
     "data": {
      "text/plain": [
       "27"
      ]
     },
     "execution_count": 8,
     "metadata": {},
     "output_type": "execute_result"
    }
   ],
   "source": [
    "df['Brand'].nunique()"
   ]
  },
  {
   "cell_type": "markdown",
   "id": "0e25ebf0",
   "metadata": {},
   "source": [
    "<hr style=\"border-top: 2px solid black;\">"
   ]
  },
  {
   "cell_type": "markdown",
   "id": "c7293dcb",
   "metadata": {},
   "source": [
    "### Q4. Valores faltantes\n",
    "¿Cuántas columnas del conjunto de datos tienen valores faltantes?\n",
    "\n",
    "- 0\n",
    "- 1\n",
    "- 2\n",
    "- 3 ✅"
   ]
  },
  {
   "cell_type": "code",
   "execution_count": 9,
   "id": "313c501c",
   "metadata": {},
   "outputs": [
    {
     "data": {
      "text/plain": [
       "Laptop             0\n",
       "Status             0\n",
       "Brand              0\n",
       "Model              0\n",
       "CPU                0\n",
       "RAM                0\n",
       "Storage            0\n",
       "Storage type      42\n",
       "GPU             1371\n",
       "Screen             4\n",
       "Touch              0\n",
       "Final Price        0\n",
       "dtype: int64"
      ]
     },
     "execution_count": 9,
     "metadata": {},
     "output_type": "execute_result"
    }
   ],
   "source": [
    "#verificando si hay valores faltantes\n",
    "df.isnull().any()\n",
    "#verificando la cantidad de valores faltantes\n",
    "df.isnull().sum()"
   ]
  },
  {
   "cell_type": "markdown",
   "id": "e9dd82b9",
   "metadata": {},
   "source": [
    "<hr style=\"border-top: 2px solid black;\">"
   ]
  },
  {
   "cell_type": "markdown",
   "id": "bb56cd34",
   "metadata": {},
   "source": [
    "### Q5. Precio final máximo\n",
    "¿Cuál es el precio final máximo de los portátiles Dell en el conjunto de datos?\n",
    "\n",
    "- 869\n",
    "- 3691\n",
    "- 3849\n",
    "- 3936 ✅"
   ]
  },
  {
   "cell_type": "code",
   "execution_count": null,
   "id": "47d92c19",
   "metadata": {},
   "outputs": [
    {
     "data": {
      "text/plain": [
       "3936.0"
      ]
     },
     "execution_count": 10,
     "metadata": {},
     "output_type": "execute_result"
    }
   ],
   "source": [
    "#precion maximo de dell\n",
    "Q5 = df[df['Brand'] == 'Dell']['Final Price'].max()\n",
    "Q5"
   ]
  },
  {
   "cell_type": "markdown",
   "id": "dfa331fd",
   "metadata": {},
   "source": [
    "<hr style=\"border-top: 2px solid black;\">"
   ]
  },
  {
   "cell_type": "markdown",
   "id": "13599f04",
   "metadata": {},
   "source": [
    "### Q6. Valor medio de la pantalla\n",
    "Encuentra el valor mediano de Screen columna en el conjunto de datos.\n",
    "A continuación, calcule el valor más frecuente del mismo Screen columna.\n",
    "Uso fillna método para completar los valores faltantes en Screen columna con el valor más frecuente del paso anterior.\n",
    "Ahora, calcule el valor mediano de Screen una vez más.\n",
    "¿Ha cambiado?\n",
    "\n",
    "Sugerencia: consulte existente mode y median funciones para completar la tarea.\n",
    "\n",
    "- Sí\n",
    "- No ✅"
   ]
  },
  {
   "cell_type": "code",
   "execution_count": 11,
   "id": "e785dd87",
   "metadata": {},
   "outputs": [
    {
     "data": {
      "text/plain": [
       "15.6"
      ]
     },
     "execution_count": 11,
     "metadata": {},
     "output_type": "execute_result"
    }
   ],
   "source": [
    "#valor mediana de la columna screen\n",
    "valor_mediana = df[\"Screen\"].median()\n",
    "valor_mediana"
   ]
  },
  {
   "cell_type": "code",
   "execution_count": 12,
   "id": "6a11ec2c",
   "metadata": {},
   "outputs": [
    {
     "data": {
      "text/plain": [
       "np.float64(15.6)"
      ]
     },
     "execution_count": 12,
     "metadata": {},
     "output_type": "execute_result"
    }
   ],
   "source": [
    "#valor mas frecuente de la columna screen\n",
    "valor_frecuencia = df[\"Screen\"].mode()[0]\n",
    "valor_frecuencia"
   ]
  },
  {
   "cell_type": "code",
   "execution_count": 17,
   "id": "68c4704e",
   "metadata": {},
   "outputs": [
    {
     "data": {
      "text/plain": [
       "0       15.6\n",
       "1       15.6\n",
       "2       15.6\n",
       "3       15.6\n",
       "4       15.6\n",
       "        ... \n",
       "2155    17.3\n",
       "2156    17.3\n",
       "2157    17.3\n",
       "2158    13.4\n",
       "2159    13.4\n",
       "Name: Screen, Length: 2160, dtype: float64"
      ]
     },
     "execution_count": 17,
     "metadata": {},
     "output_type": "execute_result"
    }
   ],
   "source": [
    "df['Screen'].fillna(valor_frecuencia, inplace=True)\n",
    "df['Screen']\n"
   ]
  },
  {
   "cell_type": "code",
   "execution_count": 14,
   "id": "2ece4b68",
   "metadata": {},
   "outputs": [
    {
     "data": {
      "text/plain": [
       "15.6"
      ]
     },
     "execution_count": 14,
     "metadata": {},
     "output_type": "execute_result"
    }
   ],
   "source": [
    "df[\"Screen\"].median()"
   ]
  },
  {
   "cell_type": "markdown",
   "id": "4d6e0a71",
   "metadata": {},
   "source": [
    "<hr style=\"border-top: 2px solid black;\">"
   ]
  },
  {
   "cell_type": "markdown",
   "id": "3608beaf",
   "metadata": {},
   "source": [
    "Q7. Suma de pesos\n",
    "Seleccione todas las computadoras portátiles \"Innjoo\" del conjunto de datos.\n",
    "Seleccione solo columnas RAM, Storage, Screen.\n",
    "Obtenga la matriz NumPy subyacente. Vamos a llamarlo X.\n",
    "Calcular la multiplicación matriz-matriz entre la transpuesta de X y X. Para obtener la transposición, utilice X.T. Llamemos al resultado XTX.\n",
    "Calcule la inversa de XTX.\n",
    "Crea una matriz y con valores [1100, 1300, 800, 900, 1000, 1100].\n",
    "Multiplica la inversa de XTX con la transposición de X, y luego multiplica el resultado por y. Llame al resultado w.\n",
    "¿Cuál es la suma de todos los elementos del resultado?\n",
    "Nota: Acabas de implementar la regresión lineal. Hablaremos de ello en la próxima lección.\n",
    "\n",
    "- 0,43\n",
    "- 45,29\n",
    "- 45,58\n",
    "- 91.30 ✅"
   ]
  },
  {
   "cell_type": "code",
   "execution_count": 22,
   "id": "ab715113",
   "metadata": {},
   "outputs": [
    {
     "data": {
      "text/plain": [
       "np.float64(91.3)"
      ]
     },
     "execution_count": 22,
     "metadata": {},
     "output_type": "execute_result"
    }
   ],
   "source": [
    "X = df[df['Brand'] == 'Innjoo'][['RAM', 'Storage', 'Screen' ]]\n",
    "XTX = X.T.dot(X)\n",
    "XTX\n",
    "XTX_inv = np.linalg.inv(XTX)\n",
    "y = np.array([1100, 1300, 800, 900, 1000, 1100])\n",
    "w = XTX_inv.dot(X.T).dot(y)\n",
    "w.sum().round(3)"
   ]
  }
 ],
 "metadata": {
  "kernelspec": {
   "display_name": "mi_nuevo_env (WSL)",
   "language": "python",
   "name": "mi_nuevo_env"
  },
  "language_info": {
   "codemirror_mode": {
    "name": "ipython",
    "version": 3
   },
   "file_extension": ".py",
   "mimetype": "text/x-python",
   "name": "python",
   "nbconvert_exporter": "python",
   "pygments_lexer": "ipython3",
   "version": "3.11.13"
  }
 },
 "nbformat": 4,
 "nbformat_minor": 5
}
